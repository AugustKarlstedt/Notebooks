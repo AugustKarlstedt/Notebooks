{
 "cells": [
  {
   "cell_type": "code",
   "execution_count": 1,
   "metadata": {},
   "outputs": [],
   "source": [
    "import matplotlib\n",
    "import matplotlib.pyplot as plt\n",
    "import numpy as np\n",
    "import pandas as pd"
   ]
  },
  {
   "cell_type": "code",
   "execution_count": 2,
   "metadata": {
    "scrolled": true
   },
   "outputs": [
    {
     "data": {
      "text/plain": [
       "array([ 25, 178, 185, 108,  36,  55,  51,  96,  69,  40, 127,  71,   8,\n",
       "       196, 116, 171,  97, 156,  31,  18,  61, 183,  24, 116, 187,  14,\n",
       "        59, 104, 143,  73,  76,  65, 130,  72,  98, 118,  31, 194,  52,\n",
       "       135,  28, 173,  90, 101, 113,  26,  89,  30,  36, 198,   2,  99,\n",
       "        85, 124,  62,  85,   6,  76,  91, 142, 161, 158,  96, 172,  50,\n",
       "        21, 130,  19, 186,  23, 141,  88,  42,  15,  67,  60, 116,   6,\n",
       "        99,  86, 151,  46, 164,  69,  86, 114, 183,  33,  74,  29, 150,\n",
       "       120, 181, 143,  82,  62, 143, 185,  26, 155,  38,  94,  13,  21,\n",
       "        38,  42,  98, 197,  32, 192,  26, 163,  27,  90,  72,  96, 172,\n",
       "        17, 180, 140,  82,  33, 136,  58, 150, 317, 462, 403, 630, 250,\n",
       "       594, 424, 542, 563, 736, 499, 268, 324, 398, 630, 304, 412, 692,\n",
       "       648, 471, 476, 296, 570, 714, 383, 279, 730, 308, 491, 269, 286,\n",
       "       664, 300, 452, 381, 502, 344, 503, 548, 275, 640, 711, 733, 648,\n",
       "       508, 542, 509, 357, 734, 587, 595, 408, 344, 453, 691, 406, 540,\n",
       "       333, 397, 545, 720, 305, 451, 474, 625, 743, 481, 375, 353, 377,\n",
       "       700, 686, 612, 591, 709, 746, 263, 321, 643, 476, 708, 667, 332,\n",
       "       537, 370, 644, 749, 686, 318, 353, 270, 576, 346, 538, 711, 577,\n",
       "       539, 370, 650, 638, 684, 661, 730, 629, 618, 717, 620, 455, 677,\n",
       "       691, 453, 385, 688, 489, 567, 570, 686, 418, 548, 423, 449, 384,\n",
       "       472, 658, 602, 619, 548, 713, 295, 329, 603, 495, 321, 705, 555,\n",
       "       620, 563, 498, 455, 701, 355, 495, 279, 684, 330, 533, 283, 362,\n",
       "       635, 342, 498, 671, 446, 338, 702, 728, 335, 483, 520, 591, 310,\n",
       "       495, 414, 704, 504, 323, 407, 420, 557, 399, 598, 299, 715, 683,\n",
       "       475, 580, 404, 311, 523, 347, 483, 418, 719, 719, 294, 547, 512,\n",
       "       564, 560, 428, 532, 386, 738, 736, 443, 705, 526, 721, 728, 477,\n",
       "       452, 452, 578, 333, 688, 743, 280, 364, 385, 324, 567, 260, 414,\n",
       "       401, 297, 617, 273, 595, 544, 623, 257, 625, 568, 715, 586, 703,\n",
       "       618, 478, 537, 723, 730, 294, 454, 563, 589, 727, 418, 514, 674,\n",
       "       617, 559, 275, 299, 326, 535, 359, 564, 597, 568, 275, 488, 728,\n",
       "       428, 556, 615, 440, 309, 537, 439, 385, 255, 607, 427, 645, 693,\n",
       "       277, 527, 509, 264, 440, 324, 441, 362, 293, 388, 457, 420, 664,\n",
       "       741, 525, 579, 263, 728, 327, 429, 254, 626, 635, 289, 287, 463,\n",
       "       733, 392, 519, 298, 693, 467, 463, 338, 585, 302, 389, 418, 479,\n",
       "       366, 470, 443, 320, 590, 561, 447, 590, 722, 688, 701, 292, 444,\n",
       "       267, 683, 408, 277, 650, 711, 594, 409, 594, 377, 373, 647, 709,\n",
       "       461, 506, 510, 742, 520, 709, 302, 394, 458, 637, 617, 523, 605,\n",
       "       451, 469, 654, 466, 656, 725, 388, 323, 590, 313, 444, 251, 548,\n",
       "       587, 746, 373, 313, 705, 708, 394, 515, 250, 505, 608, 406, 356,\n",
       "       385, 710, 674, 484, 362, 341, 412, 537, 577, 582, 377, 713, 569,\n",
       "       329, 494, 504, 582, 607, 330, 562, 630, 271, 342, 592, 742, 716,\n",
       "       543, 649, 254, 407, 321, 275, 459, 315, 609, 563, 587, 371, 552,\n",
       "       616, 332, 297, 458, 489, 647, 593, 680, 567, 644, 647, 430, 621,\n",
       "       476, 425, 509, 439, 615, 277, 454, 293, 392, 476, 363, 397, 297,\n",
       "       546, 278, 588, 649, 564, 572, 390, 715, 621, 357, 410, 678, 738,\n",
       "       701, 474, 649, 708, 262, 346, 608, 346, 404, 633, 529, 463, 386,\n",
       "       320, 341, 291, 544, 545, 670, 495, 314, 371, 625, 689, 747, 419,\n",
       "       318, 364, 474, 416, 657, 597, 678, 727, 617, 670, 601, 647, 372,\n",
       "       268, 746, 622, 458, 696, 432, 596, 259, 351, 415, 443, 274, 594,\n",
       "       269, 449, 427, 299, 398, 674, 406, 295, 510, 452, 699, 255, 605,\n",
       "       401, 719, 446, 688, 714, 297, 480, 614, 705, 271, 648, 287, 599,\n",
       "       592, 472, 457, 369, 388, 677, 265, 271, 380, 310, 290, 652, 664,\n",
       "       276, 473, 576, 635, 642, 300, 250, 686, 655, 449, 641, 528, 327,\n",
       "       432, 600, 749, 727, 660, 343, 423, 310, 329, 511, 296, 601, 567,\n",
       "       648, 674, 276, 492, 638, 462, 546, 395, 639, 488, 488, 562, 698,\n",
       "       749, 572, 531, 504, 471, 255, 583, 323, 341, 473, 513, 544, 329,\n",
       "       455, 620, 368, 506, 545, 541, 601, 554, 508, 713, 255, 693, 258,\n",
       "       357, 253, 420, 407, 680, 523, 711, 720, 311, 569, 546, 654, 251,\n",
       "       426, 709, 259, 622, 522, 694, 471, 424, 319, 584, 390, 403, 666,\n",
       "       482, 416, 507, 418, 595, 422, 446, 731, 423, 593, 545, 476, 540,\n",
       "       696, 351, 392, 319, 299, 604, 699, 426, 460, 616, 257, 648, 478,\n",
       "       396, 656, 341, 388, 714, 687, 383, 609, 395, 447, 472, 376, 445,\n",
       "       399, 269, 583, 407, 311, 626, 590, 611, 387, 744, 708, 294, 686,\n",
       "       595, 411, 557, 645, 598, 420, 584, 594, 267, 560, 574, 675, 503,\n",
       "       264, 520, 283, 349, 348, 315, 423, 294, 338, 285, 624, 254, 257,\n",
       "       488, 534, 643, 653, 482, 354, 349, 303, 507, 737, 519, 437, 252,\n",
       "       691, 356, 537, 680, 441, 377, 266, 653, 404, 637, 491, 692, 429,\n",
       "       402, 475, 508, 692, 660, 487, 266, 739, 720, 327, 506, 650, 303,\n",
       "       386, 662, 257, 371, 816, 929, 912, 823, 914, 993, 945, 850, 990,\n",
       "       964, 909, 905, 972, 858, 849, 846, 817, 949, 861, 814, 940, 886,\n",
       "       873, 946, 928, 893, 848, 918, 906, 843, 826, 934, 836, 946, 958,\n",
       "       808, 847, 953, 999, 812, 857, 838, 888, 809, 903, 911, 899, 955,\n",
       "       915, 853, 808, 852, 841, 858, 966, 871, 982, 917, 954, 810, 885,\n",
       "       848, 920, 944, 903, 842, 898, 882, 905, 927, 965, 823, 970, 894,\n",
       "       995, 957, 979, 920, 949, 883, 821, 862, 893, 989, 947, 988, 998,\n",
       "       843, 972, 818, 855, 963, 931, 938, 944, 823, 905, 937, 804, 823,\n",
       "       968, 873, 844, 885, 965, 910, 911, 954, 899, 918, 964, 881, 891,\n",
       "       924, 966, 821, 956, 821, 985, 947, 960, 826, 998, 858, 836])"
      ]
     },
     "execution_count": 2,
     "metadata": {},
     "output_type": "execute_result"
    }
   ],
   "source": [
    "values = np.random.randint(250, 750, size=1000)\n",
    "values[0:125] = np.random.randint(0, 200, size=125)\n",
    "values[875:1000] = np.random.randint(800, 1000, size=125)\n",
    "values"
   ]
  },
  {
   "cell_type": "code",
   "execution_count": 10,
   "metadata": {},
   "outputs": [
    {
     "data": {
      "text/html": [
       "<div>\n",
       "<style scoped>\n",
       "    .dataframe tbody tr th:only-of-type {\n",
       "        vertical-align: middle;\n",
       "    }\n",
       "\n",
       "    .dataframe tbody tr th {\n",
       "        vertical-align: top;\n",
       "    }\n",
       "\n",
       "    .dataframe thead th {\n",
       "        text-align: right;\n",
       "    }\n",
       "</style>\n",
       "<table border=\"1\" class=\"dataframe\">\n",
       "  <thead>\n",
       "    <tr style=\"text-align: right;\">\n",
       "      <th></th>\n",
       "      <th>0</th>\n",
       "    </tr>\n",
       "  </thead>\n",
       "  <tbody>\n",
       "    <tr>\n",
       "      <th>count</th>\n",
       "      <td>1000.00000</td>\n",
       "    </tr>\n",
       "    <tr>\n",
       "      <th>mean</th>\n",
       "      <td>497.91200</td>\n",
       "    </tr>\n",
       "    <tr>\n",
       "      <th>std</th>\n",
       "      <td>239.95705</td>\n",
       "    </tr>\n",
       "    <tr>\n",
       "      <th>min</th>\n",
       "      <td>2.00000</td>\n",
       "    </tr>\n",
       "    <tr>\n",
       "      <th>25%</th>\n",
       "      <td>327.00000</td>\n",
       "    </tr>\n",
       "    <tr>\n",
       "      <th>50%</th>\n",
       "      <td>495.00000</td>\n",
       "    </tr>\n",
       "    <tr>\n",
       "      <th>75%</th>\n",
       "      <td>664.50000</td>\n",
       "    </tr>\n",
       "    <tr>\n",
       "      <th>max</th>\n",
       "      <td>999.00000</td>\n",
       "    </tr>\n",
       "  </tbody>\n",
       "</table>\n",
       "</div>"
      ],
      "text/plain": [
       "                0\n",
       "count  1000.00000\n",
       "mean    497.91200\n",
       "std     239.95705\n",
       "min       2.00000\n",
       "25%     327.00000\n",
       "50%     495.00000\n",
       "75%     664.50000\n",
       "max     999.00000"
      ]
     },
     "execution_count": 10,
     "metadata": {},
     "output_type": "execute_result"
    }
   ],
   "source": [
    "df = pd.DataFrame(values)\n",
    "df.describe()"
   ]
  },
  {
   "cell_type": "code",
   "execution_count": 35,
   "metadata": {
    "scrolled": false
   },
   "outputs": [
    {
     "data": {
      "image/png": "[encoded data removed]",
      "text/plain": [
       "<matplotlib.figure.Figure at 0x21bb573c4e0>"
      ]
     },
     "metadata": {},
     "output_type": "display_data"
    }
   ],
   "source": [
    "fig = plt.figure(figsize=(16, 4))\n",
    "ax1, ax2 = fig.subplots(2, 1)\n",
    "ax1.boxplot(values, vert=False, meanline=True)\n",
    "ax2.hist(values, bins=100)\n",
    "plt.show()"
   ]
  },
  {
   "cell_type": "code",
   "execution_count": 68,
   "metadata": {},
   "outputs": [],
   "source": [
    "take = 100\n",
    "iterations = 10"
   ]
  },
  {
   "cell_type": "code",
   "execution_count": 69,
   "metadata": {},
   "outputs": [],
   "source": [
    "means = []\n",
    "medians = []\n",
    "\n",
    "for i in range(iterations):\n",
    "    sample = np.random.choice(values, take, replace=True)\n",
    "    \n",
    "    mean = sample.mean()\n",
    "    median = np.median(sample)\n",
    "    \n",
    "    means.append(mean)\n",
    "    medians.append(median)"
   ]
  },
  {
   "cell_type": "code",
   "execution_count": 70,
   "metadata": {},
   "outputs": [
    {
     "data": {
      "text/plain": [
       "489.5950000000001"
      ]
     },
     "execution_count": 70,
     "metadata": {},
     "output_type": "execute_result"
    }
   ],
   "source": [
    "np.average(means)"
   ]
  },
  {
   "cell_type": "code",
   "execution_count": 71,
   "metadata": {},
   "outputs": [
    {
     "data": {
      "text/plain": [
       "478.4"
      ]
     },
     "execution_count": 71,
     "metadata": {},
     "output_type": "execute_result"
    }
   ],
   "source": [
    "np.average(medians)"
   ]
  },
  {
   "cell_type": "code",
   "execution_count": 72,
   "metadata": {},
   "outputs": [
    {
     "data": {
      "image/png": "[encoded data removed]",
      "text/plain": [
       "<matplotlib.figure.Figure at 0x21bb5736278>"
      ]
     },
     "metadata": {},
     "output_type": "display_data"
    }
   ],
   "source": [
    "fig = plt.figure(figsize=(16, 4))\n",
    "ax1, ax2 = fig.subplots(2, 1)\n",
    "ax1.boxplot(means, vert=False)\n",
    "ax2.boxplot(medians, vert=False)\n",
    "plt.show()"
   ]
  },
  {
   "cell_type": "code",
   "execution_count": null,
   "metadata": {},
   "outputs": [],
   "source": []
  }
 ],
 "metadata": {
  "kernelspec": {
   "display_name": "Python 3",
   "language": "python",
   "name": "python3"
  },
  "language_info": {
   "codemirror_mode": {
    "name": "ipython",
    "version": 3
   },
   "file_extension": ".py",
   "mimetype": "text/x-python",
   "name": "python",
   "nbconvert_exporter": "python",
   "pygments_lexer": "ipython3",
   "version": "3.6.4"
  }
 },
 "nbformat": 4,
 "nbformat_minor": 2
}

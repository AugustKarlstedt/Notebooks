{
  "nbformat": 4,
  "nbformat_minor": 0,
  "metadata": {
    "colab": {
      "name": "central-limit-theorem.ipynb",
      "version": "0.3.2",
      "provenance": [],
      "collapsed_sections": []
    },
    "language_info": {
      "codemirror_mode": {
        "name": "ipython",
        "version": 3
      },
      "file_extension": ".py",
      "mimetype": "text/x-python",
      "name": "python",
      "nbconvert_exporter": "python",
      "pygments_lexer": "ipython3",
      "version": "3.6.8"
    },
    "kernelspec": {
      "name": "python3",
      "display_name": "Python 3"
    },
    "accelerator": "GPU"
  },
  "cells": [
    {
      "cell_type": "markdown",
      "metadata": {
        "id": "uRRGsynkMfo0",
        "colab_type": "text"
      },
      "source": [
        "# August Karlstedt"
      ]
    },
    {
      "cell_type": "code",
      "metadata": {
        "id": "7JL-4flxZeVF",
        "colab_type": "code",
        "colab": {}
      },
      "source": [
        "import os\n",
        "import imp\n",
        "import operator\n",
        "import math\n",
        "import glob\n",
        "import json\n",
        "import time\n",
        "import copy\n",
        "\n",
        "import numpy as np\n",
        "import pandas as pd\n",
        "\n",
        "import matplotlib.pyplot as plt\n",
        "%matplotlib inline\n",
        "\n",
        "import torch\n",
        "import torch.tensor\n",
        "import torch.nn as nn\n",
        "import torch.optim as optim\n",
        "import torch.distributions as dist\n",
        "from torch.utils.data import DataLoader, TensorDataset\n",
        "\n",
        "#from google.colab import drive\n",
        "#drive.mount('/content/gdrive')"
      ],
      "execution_count": 0,
      "outputs": []
    },
    {
      "cell_type": "code",
      "metadata": {
        "id": "rQr5m1-Zhh7d",
        "colab_type": "code",
        "colab": {}
      },
      "source": [
        ""
      ],
      "execution_count": 0,
      "outputs": []
    },
    {
      "cell_type": "code",
      "metadata": {
        "id": "qPzIxZZVadb0",
        "colab_type": "code",
        "outputId": "e1dc0421-9111-4909-dc7c-27623a63aa97",
        "colab": {
          "base_uri": "https://localhost:8080/",
          "height": 269
        }
      },
      "source": [
        "ax, fig = plt.subplots()\n",
        "exp_population = dist.Exponential(rate=1.0)\n",
        "_ = fig.hist(exp_population.sample((10000,)), bins=100)"
      ],
      "execution_count": 58,
      "outputs": [
        {
          "output_type": "display_data",
          "data": {
            "image/png": "[encoded data removed]",
            "text/plain": [
              "<Figure size 432x288 with 1 Axes>"
            ]
          },
          "metadata": {
            "tags": []
          }
        }
      ]
    },
    {
      "cell_type": "code",
      "metadata": {
        "id": "yODAybdgo2hs",
        "colab_type": "code",
        "colab": {}
      },
      "source": [
        "n_samples = 10000\n",
        "sample_size = 4\n",
        "means = []\n",
        "sums = []\n",
        "for i in range(n_samples):\n",
        "  exp_sample = exp_population.sample((sample_size,))\n",
        "  means.append(exp_sample.mean())\n",
        "  sums.append(exp_sample.sum())"
      ],
      "execution_count": 0,
      "outputs": []
    },
    {
      "cell_type": "code",
      "metadata": {
        "id": "ThzACiOZjNz9",
        "colab_type": "code",
        "outputId": "ba0b29ad-2c44-4e47-96e0-6ba5ef03e072",
        "colab": {
          "base_uri": "https://localhost:8080/",
          "height": 269
        }
      },
      "source": [
        "ax, fig = plt.subplots()\n",
        "_ = fig.hist(means, bins=1000)"
      ],
      "execution_count": 74,
      "outputs": [
        {
          "output_type": "display_data",
          "data": {
            "image/png": "[encoded data removed]",
            "text/plain": [
              "<Figure size 432x288 with 1 Axes>"
            ]
          },
          "metadata": {
            "tags": []
          }
        }
      ]
    },
    {
      "cell_type": "code",
      "metadata": {
        "id": "GfXAQ-XBjN2H",
        "colab_type": "code",
        "colab": {
          "base_uri": "https://localhost:8080/",
          "height": 269
        },
        "outputId": "5ee34d08-40ee-428b-8a05-362c39d66e92"
      },
      "source": [
        "ax, fig = plt.subplots()\n",
        "_ = fig.hist(sums, bins=1000)"
      ],
      "execution_count": 76,
      "outputs": [
        {
          "output_type": "display_data",
          "data": {
            "image/png": "[encoded data removed]",
            "text/plain": [
              "<Figure size 432x288 with 1 Axes>"
            ]
          },
          "metadata": {
            "tags": []
          }
        }
      ]
    },
    {
      "cell_type": "code",
      "metadata": {
        "id": "FKI-35bdadeV",
        "colab_type": "code",
        "colab": {}
      },
      "source": [
        ""
      ],
      "execution_count": 0,
      "outputs": []
    },
    {
      "cell_type": "code",
      "metadata": {
        "id": "Eyj6-Shoadg5",
        "colab_type": "code",
        "colab": {}
      },
      "source": [
        ""
      ],
      "execution_count": 0,
      "outputs": []
    },
    {
      "cell_type": "markdown",
      "metadata": {
        "id": "lc1xVBwGZKJf",
        "colab_type": "text"
      },
      "source": [
        "# August Karlstedt"
      ]
    }
  ]
}
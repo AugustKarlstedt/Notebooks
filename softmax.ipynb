{
 "cells": [
  {
   "cell_type": "markdown",
   "metadata": {},
   "source": [
    "# Softmax Function"
   ]
  },
  {
   "cell_type": "markdown",
   "metadata": {},
   "source": [
    "## Goal: understand it better, also learn a bit about $e$"
   ]
  },
  {
   "cell_type": "markdown",
   "metadata": {},
   "source": [
    "https://en.wikipedia.org/wiki/Softmax_function"
   ]
  },
  {
   "cell_type": "markdown",
   "metadata": {},
   "source": [
    "The standard (unit) softmax function $\\sigma : \\mathbb{R}^K\\to\\mathbb{R}^K$ is defined by the formula:\n",
    "\n",
    "$\\sigma(\\mathbf{z})_j = \\frac{e^{z_j}}{\\sum_{k=1}^K e^{z_k}}$ for $\\textit{j}$ = 1, …, $\\textit{K}$  and  $\\mathbf{z}=(z_1,\\ldots,z_K) \\in\\mathbb{R}^K$"
   ]
  },
  {
   "cell_type": "markdown",
   "metadata": {},
   "source": [
    "In words: we apply the standard exponential function to each element $z_{j}$ of the input vector $\\mathbf{z}$ and normalize these values by dividing by the sum of all these exponentials; this normalization ensures that the sum of the components of the output vector $\\sigma(\\mathbf{z})$ is 1. "
   ]
  },
  {
   "cell_type": "code",
   "execution_count": 51,
   "metadata": {},
   "outputs": [],
   "source": [
    "z = [2, 1, 7]"
   ]
  },
  {
   "cell_type": "code",
   "execution_count": 46,
   "metadata": {},
   "outputs": [],
   "source": [
    "def softmax(z, e=2.7182818284590452354):\n",
    "    exponentials = [e**k for k in z]\n",
    "    denominator = sum(exponentials)\n",
    "    return [j / denominator for j in exponentials]"
   ]
  },
  {
   "cell_type": "code",
   "execution_count": 52,
   "metadata": {},
   "outputs": [
    {
     "data": {
      "text/plain": [
       "[0.006676412513376453, 0.0024561149044509544, 0.9908674725821727]"
      ]
     },
     "execution_count": 52,
     "metadata": {},
     "output_type": "execute_result"
    }
   ],
   "source": [
    "softmax(z)"
   ]
  },
  {
   "cell_type": "code",
   "execution_count": 48,
   "metadata": {},
   "outputs": [
    {
     "data": {
      "text/plain": [
       "1.0"
      ]
     },
     "execution_count": 48,
     "metadata": {},
     "output_type": "execute_result"
    }
   ],
   "source": [
    "sum(softmax(z))"
   ]
  },
  {
   "cell_type": "markdown",
   "metadata": {},
   "source": [
    "### What happens if we don't use $e$?"
   ]
  },
  {
   "cell_type": "code",
   "execution_count": 66,
   "metadata": {},
   "outputs": [
    {
     "data": {
      "text/plain": [
       "[0.000999000999000999, 0.999000999000999, 9.99000999000999e-19]"
      ]
     },
     "execution_count": 66,
     "metadata": {},
     "output_type": "execute_result"
    }
   ],
   "source": [
    "softmax(z, e=0.001)"
   ]
  },
  {
   "cell_type": "code",
   "execution_count": 67,
   "metadata": {},
   "outputs": [
    {
     "data": {
      "text/plain": [
       "[0.09090900826453795, 0.9090900826453793, 9.090900826453796e-07]"
      ]
     },
     "execution_count": 67,
     "metadata": {},
     "output_type": "execute_result"
    }
   ],
   "source": [
    "softmax(z, e=0.1)"
   ]
  },
  {
   "cell_type": "code",
   "execution_count": 71,
   "metadata": {},
   "outputs": [
    {
     "data": {
      "text/plain": [
       "[0.3377133562382438, 0.3411246022608523, 0.3211620415009039]"
      ]
     },
     "execution_count": 71,
     "metadata": {},
     "output_type": "execute_result"
    }
   ],
   "source": [
    "softmax(z, e=0.99)"
   ]
  },
  {
   "cell_type": "markdown",
   "metadata": {},
   "source": [
    "It seems that $e < 1$ makes the function have the lowest probability for the highest value in the $\\mathbf{z}$ vector"
   ]
  },
  {
   "cell_type": "code",
   "execution_count": 68,
   "metadata": {},
   "outputs": [
    {
     "data": {
      "text/plain": [
       "[0.3333333333333333, 0.3333333333333333, 0.3333333333333333]"
      ]
     },
     "execution_count": 68,
     "metadata": {},
     "output_type": "execute_result"
    }
   ],
   "source": [
    "softmax(z, e=1)"
   ]
  },
  {
   "cell_type": "markdown",
   "metadata": {},
   "source": [
    "The result of $e = 1$ just computes $\\frac{1}{|z|}$"
   ]
  },
  {
   "cell_type": "code",
   "execution_count": 69,
   "metadata": {},
   "outputs": [
    {
     "data": {
      "text/plain": [
       "[0.003261969619938955, 0.0010388438280060366, 0.995699186552055]"
      ]
     },
     "execution_count": 69,
     "metadata": {},
     "output_type": "execute_result"
    }
   ],
   "source": [
    "softmax(z, e=3.14)"
   ]
  },
  {
   "cell_type": "code",
   "execution_count": 70,
   "metadata": {},
   "outputs": [
    {
     "data": {
      "text/plain": [
       "[8.881784197001244e-16, 8.673617379884028e-19, 0.9999999999999991]"
      ]
     },
     "execution_count": 70,
     "metadata": {},
     "output_type": "execute_result"
    }
   ],
   "source": [
    "softmax(z, e=1024)"
   ]
  },
  {
   "cell_type": "markdown",
   "metadata": {},
   "source": [
    "Using increasingly large values for $e$ simply results in the probability distribution getting squashed toward the highest values"
   ]
  },
  {
   "cell_type": "markdown",
   "metadata": {},
   "source": [
    "#### But *why*?"
   ]
  },
  {
   "cell_type": "markdown",
   "metadata": {},
   "source": [
    "https://datascience.stackexchange.com/questions/23159/in-softmax-classifier-why-use-exp-function-to-do-normalization"
   ]
  },
  {
   "cell_type": "code",
   "execution_count": 76,
   "metadata": {},
   "outputs": [],
   "source": [
    "%matplotlib inline\n",
    "import matplotlib.pyplot as plt\n",
    "import numpy as np"
   ]
  },
  {
   "cell_type": "code",
   "execution_count": 265,
   "metadata": {},
   "outputs": [
    {
     "data": {
      "image/png": "[encoded data removed]",
      "text/plain": [
       "<Figure size 432x288 with 1 Axes>"
      ]
     },
     "metadata": {
      "needs_background": "light"
     },
     "output_type": "display_data"
    }
   ],
   "source": [
    "t = np.arange(-5.0, 5.0, 0.1)\n",
    "\n",
    "fig, ax = plt.subplots()\n",
    "\n",
    "items = [0.01, 0.99, np.e, 3.14, 1024]\n",
    "for item in items:   \n",
    "    line, = ax.plot(t, item**t)\n",
    "    line.set_linewidth(3.14)\n",
    "ax.legend(items)\n",
    "    \n",
    "ax.axhline(linewidth=1.125, color='black')\n",
    "ax.axvline(linewidth=1.125, color='black')\n",
    "\n",
    "ax.plot(0, 1, 'o', color='black')\n",
    "ax.text(0, 1, '(0, 1)', fontsize=16, horizontalalignment='right', verticalalignment='bottom')\n",
    "\n",
    "ax.plot(1, np.exp(1), 'o', color='black')\n",
    "ax.text(1, np.exp(1), '(0, $e$)', fontsize=16, horizontalalignment='left', verticalalignment='top')\n",
    "\n",
    "ax.set_xlim(-5, 5)\n",
    "ax.set_ylim(-1, 9)\n",
    "\n",
    "ax.set_xticks(np.arange(-5, 6, 1))\n",
    "ax.set_yticks(np.arange(-1, 10, 1))\n",
    "\n",
    "ax.grid(True)\n",
    "ax.tick_params(direction='in', top=True, right=True)\n",
    "\n",
    "fig.tight_layout()\n",
    "fig.show()"
   ]
  },
  {
   "cell_type": "markdown",
   "metadata": {},
   "source": [
    "Additional information: https://www.quora.com/Why-is-exponential-function-used-in-softmax-function-in-machine-learning\n",
    "\n",
    "The goal of softmax function is to take a vector of arbitrary real numbers, such as [-1, 3, 2], and generate a probability distribution with the same number of elements (three in the example) such that larger elements get higher probabilities and smaller elements get smaller probabilities. So, formally, the softmax function need to satisfy the following properties:\n",
    "\n",
    "- Monotonically increasing — To ensure that larger inputs are mapped to larger outputs.\n",
    "- Non-negative outputs — Because probability values must be non-negative.\n",
    "- The outputs should sum to one — This can be achieved by simply dividing each element of the output by the sum of all elements of the output.\n",
    "\n",
    "**It turns out that the exponential function is both monotonically increasing, and gives non-negative result for any real input. Therefore, it is a natural candidate.**\n",
    "\n",
    "Further, it results in the Boltzmann distribution that has a tunable temperature parameter \\[see [What is the temperature parameter in deep learning?](https://www.quora.com/What-is-the-temperature-parameter-in-deep-learning/answer/Prasoon-Goyal)\\] and maximizes the entropy."
   ]
  },
  {
   "cell_type": "markdown",
   "metadata": {},
   "source": [
    "_Emphasis mine_"
   ]
  },
  {
   "cell_type": "markdown",
   "metadata": {},
   "source": [
    "It turns out, we just need some sort of value that fits the above properties. "
   ]
  },
  {
   "cell_type": "markdown",
   "metadata": {},
   "source": [
    "# _WELL, THAT'S IT THEN_"
   ]
  },
  {
   "cell_type": "code",
   "execution_count": null,
   "metadata": {},
   "outputs": [],
   "source": []
  },
  {
   "cell_type": "code",
   "execution_count": null,
   "metadata": {},
   "outputs": [],
   "source": []
  }
 ],
 "metadata": {
  "kernelspec": {
   "display_name": "Python 3",
   "language": "python",
   "name": "python3"
  },
  "language_info": {
   "codemirror_mode": {
    "name": "ipython",
    "version": 3
   },
   "file_extension": ".py",
   "mimetype": "text/x-python",
   "name": "python",
   "nbconvert_exporter": "python",
   "pygments_lexer": "ipython3",
   "version": "3.7.1"
  }
 },
 "nbformat": 4,
 "nbformat_minor": 2
}
